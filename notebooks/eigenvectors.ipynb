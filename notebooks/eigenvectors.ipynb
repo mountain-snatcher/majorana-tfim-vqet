{
 "cells": [
  {
   "cell_type": "code",
   "execution_count": 5,
   "id": "34f879cc",
   "metadata": {},
   "outputs": [],
   "source": [
    "import sys\n",
    "import os\n",
    "sys.path.insert(0, os.path.abspath('./src'))\n"
   ]
  },
  {
   "cell_type": "code",
   "execution_count": 6,
   "id": "195529be",
   "metadata": {},
   "outputs": [
    {
     "ename": "ModuleNotFoundError",
     "evalue": "No module named 'tfim_model_core'",
     "output_type": "error",
     "traceback": [
      "\u001b[31m---------------------------------------------------------------------------\u001b[39m",
      "\u001b[31mModuleNotFoundError\u001b[39m                       Traceback (most recent call last)",
      "\u001b[36mCell\u001b[39m\u001b[36m \u001b[39m\u001b[32mIn[6]\u001b[39m\u001b[32m, line 2\u001b[39m\n\u001b[32m      1\u001b[39m \u001b[38;5;28;01mimport\u001b[39;00m\u001b[38;5;250m \u001b[39m\u001b[34;01mnumpy\u001b[39;00m\u001b[38;5;250m \u001b[39m\u001b[38;5;28;01mas\u001b[39;00m\u001b[38;5;250m \u001b[39m\u001b[34;01mnp\u001b[39;00m\n\u001b[32m----> \u001b[39m\u001b[32m2\u001b[39m \u001b[38;5;28;01mfrom\u001b[39;00m\u001b[38;5;250m \u001b[39m\u001b[34;01mtfim_model_core\u001b[39;00m\u001b[38;5;250m \u001b[39m\u001b[38;5;28;01mimport\u001b[39;00m build_tfim_hamiltonian\n\u001b[32m      3\u001b[39m \u001b[38;5;28;01mfrom\u001b[39;00m\u001b[38;5;250m \u001b[39m\u001b[34;01mmajorana_transform\u001b[39;00m\u001b[38;5;250m \u001b[39m\u001b[38;5;28;01mimport\u001b[39;00m build_delta\n\u001b[32m      4\u001b[39m \u001b[38;5;28;01mfrom\u001b[39;00m\u001b[38;5;250m \u001b[39m\u001b[34;01mutils\u001b[39;00m\u001b[38;5;250m \u001b[39m\u001b[38;5;28;01mimport\u001b[39;00m plot_eigenvector\n",
      "\u001b[31mModuleNotFoundError\u001b[39m: No module named 'tfim_model_core'"
     ]
    }
   ],
   "source": [
    "import numpy as np\n",
    "from tfim_model_core import build_tfim_hamiltonian\n",
    "from majorana_transform import build_delta\n",
    "from utils import plot_eigenvector\n",
    "\n",
    "\n",
    "\n",
    "n = 100\n",
    "lambda_1 = 1.0\n",
    "lambda_2 = -1.2\n",
    "\n",
    "h = build_tfim_hamiltonian(n, lambda_1, lambda_2)\n",
    "delta = build_delta(n, lambda_1, lambda_2)\n",
    "\n",
    "H = np.zeros((2 * n, 2 * n), float)\n",
    "H[:n, :n] = h\n",
    "H[:n, n:] = delta\n",
    "H[n:, :n] = -delta\n",
    "H[n:, n:] = -h\n",
    "\n",
    "eigval, eigvec = np.linalg.eig(H)\n",
    "plot_eigenvector(eigvec, lambda_1, lambda_2, n=n, index=2 * n - 1)\n"
   ]
  },
  {
   "cell_type": "code",
   "execution_count": null,
   "id": "713a2480",
   "metadata": {},
   "outputs": [],
   "source": []
  }
 ],
 "metadata": {
  "kernelspec": {
   "display_name": "Python 3",
   "language": "python",
   "name": "python3"
  },
  "language_info": {
   "codemirror_mode": {
    "name": "ipython",
    "version": 3
   },
   "file_extension": ".py",
   "mimetype": "text/x-python",
   "name": "python",
   "nbconvert_exporter": "python",
   "pygments_lexer": "ipython3",
   "version": "3.13.3"
  }
 },
 "nbformat": 4,
 "nbformat_minor": 5
}
